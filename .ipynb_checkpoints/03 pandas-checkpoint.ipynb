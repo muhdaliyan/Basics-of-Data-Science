{
 "cells": [
  {
   "cell_type": "code",
   "execution_count": 1,
   "id": "dd99de47-0736-45fa-90b3-ceabd5fc99c4",
   "metadata": {},
   "outputs": [],
   "source": [
    "import pandas as pd\n",
    "import numpy as np"
   ]
  },
  {
   "cell_type": "code",
   "execution_count": 2,
   "id": "80913ef6-d3af-4e0c-a779-74d2f32933b4",
   "metadata": {},
   "outputs": [
    {
     "data": {
      "text/plain": [
       "0    10\n",
       "1    30\n",
       "2    50\n",
       "3    70\n",
       "4    90\n",
       "dtype: int32"
      ]
     },
     "execution_count": 2,
     "metadata": {},
     "output_type": "execute_result"
    }
   ],
   "source": [
    "a = np.arange(10, 100, 20)\n",
    "pd.Series(a)"
   ]
  },
  {
   "cell_type": "code",
   "execution_count": 3,
   "id": "286bba23-1a76-4101-9ce1-634e59d7ccef",
   "metadata": {},
   "outputs": [
    {
     "data": {
      "text/plain": [
       "a    10\n",
       "b    30\n",
       "c    50\n",
       "d    70\n",
       "e    90\n",
       "dtype: int32"
      ]
     },
     "execution_count": 3,
     "metadata": {},
     "output_type": "execute_result"
    }
   ],
   "source": [
    "index = ['a', 'b', 'c', 'd', 'e']\n",
    "pd.Series(a, index=index)"
   ]
  },
  {
   "cell_type": "code",
   "execution_count": 4,
   "id": "f0cb0f50-43c3-4ec3-b648-ad05dba400fb",
   "metadata": {},
   "outputs": [
    {
     "data": {
      "text/plain": [
       "Ali       90\n",
       "Shan      80\n",
       "Khan      30\n",
       "Peesho    90\n",
       "Karim     11\n",
       "Talha     81\n",
       "Jawad     17\n",
       "Manja     32\n",
       "dtype: int64"
      ]
     },
     "execution_count": 4,
     "metadata": {},
     "output_type": "execute_result"
    }
   ],
   "source": [
    "dict = {'Ali':90, 'Shan':80, 'Khan':30, 'Peesho':90, 'Karim':11, 'Talha':81, 'Jawad':17, 'Manja':32}\n",
    "b = pd.Series(dict)\n",
    "b"
   ]
  },
  {
   "cell_type": "code",
   "execution_count": 5,
   "id": "533785d8-e094-424f-860b-4aa27373f296",
   "metadata": {},
   "outputs": [
    {
     "data": {
      "text/plain": [
       "Ali        True\n",
       "Shan      False\n",
       "Khan      False\n",
       "Peesho     True\n",
       "Karim     False\n",
       "Talha     False\n",
       "Jawad     False\n",
       "Manja     False\n",
       "dtype: bool"
      ]
     },
     "execution_count": 5,
     "metadata": {},
     "output_type": "execute_result"
    }
   ],
   "source": [
    "b.isin([90])"
   ]
  },
  {
   "cell_type": "code",
   "execution_count": 6,
   "id": "9a1bf469-9853-44c8-baae-c40cfb377b0b",
   "metadata": {},
   "outputs": [
    {
     "data": {
      "text/plain": [
       "Ali     90\n",
       "Shan    80\n",
       "Khan    30\n",
       "dtype: int64"
      ]
     },
     "execution_count": 6,
     "metadata": {},
     "output_type": "execute_result"
    }
   ],
   "source": [
    "b.head(3)"
   ]
  },
  {
   "cell_type": "code",
   "execution_count": 7,
   "id": "5caab7ec-c73c-4546-9bbc-22a2c60d2ce7",
   "metadata": {},
   "outputs": [
    {
     "data": {
      "text/plain": [
       "Talha    81\n",
       "Jawad    17\n",
       "Manja    32\n",
       "dtype: int64"
      ]
     },
     "execution_count": 7,
     "metadata": {},
     "output_type": "execute_result"
    }
   ],
   "source": [
    "b.tail(3)"
   ]
  },
  {
   "cell_type": "code",
   "execution_count": 8,
   "id": "b66bf4f0-8790-4805-a90e-c4b6209fb190",
   "metadata": {},
   "outputs": [
    {
     "data": {
      "text/plain": [
       "a    59\n",
       "b    12\n",
       "c    53\n",
       "d    54\n",
       "e    28\n",
       "f    59\n",
       "g    97\n",
       "h    39\n",
       "i    47\n",
       "j    72\n",
       "dtype: int32"
      ]
     },
     "execution_count": 8,
     "metadata": {},
     "output_type": "execute_result"
    }
   ],
   "source": [
    "ind = ['a', 'b', 'c', 'd', 'e', 'f', 'g', 'h', 'i', 'j']\n",
    "c = np.random.randint(11, 100, 10)\n",
    "d = pd.Series(c, index=ind)\n",
    "d"
   ]
  },
  {
   "cell_type": "code",
   "execution_count": 9,
   "id": "f0544f92-ec59-43f8-8492-a849d48d9a2e",
   "metadata": {},
   "outputs": [
    {
     "data": {
      "text/plain": [
       "b    12\n",
       "e    28\n",
       "h    39\n",
       "i    47\n",
       "c    53\n",
       "d    54\n",
       "a    59\n",
       "f    59\n",
       "j    72\n",
       "g    97\n",
       "dtype: int32"
      ]
     },
     "execution_count": 9,
     "metadata": {},
     "output_type": "execute_result"
    }
   ],
   "source": [
    "d.sort_values()"
   ]
  },
  {
   "cell_type": "code",
   "execution_count": 10,
   "id": "be9625b5-b59d-42d4-b149-613ebb8a225b",
   "metadata": {},
   "outputs": [
    {
     "data": {
      "text/plain": [
       "a    59\n",
       "b    12\n",
       "c    53\n",
       "d    54\n",
       "e    28\n",
       "f    59\n",
       "g    97\n",
       "h    39\n",
       "i    47\n",
       "j    72\n",
       "dtype: int32"
      ]
     },
     "execution_count": 10,
     "metadata": {},
     "output_type": "execute_result"
    }
   ],
   "source": [
    "d.sort_index()"
   ]
  },
  {
   "cell_type": "code",
   "execution_count": 11,
   "id": "dcb718a6-a2e0-4a7d-b152-10739d9c2daf",
   "metadata": {},
   "outputs": [
    {
     "data": {
      "text/plain": [
       "array([[82, 19, 38],\n",
       "       [26, 64, 98],\n",
       "       [99, 83, 87],\n",
       "       [61, 69, 32],\n",
       "       [22, 88, 39],\n",
       "       [65, 29, 99],\n",
       "       [75, 36, 94],\n",
       "       [18, 71, 37],\n",
       "       [30, 49, 70],\n",
       "       [20, 59, 43]])"
      ]
     },
     "execution_count": 11,
     "metadata": {},
     "output_type": "execute_result"
    }
   ],
   "source": [
    "ind = ['i', 'ii', 'iii', 'iv', 'v', 'vi', 'vii', 'viii', 'ix', 'x']\n",
    "e = np.random.randint(11, 100, 30)\n",
    "f= e.reshape(10, 3)\n",
    "f"
   ]
  },
  {
   "cell_type": "code",
   "execution_count": 12,
   "id": "55613a06-84af-424d-b933-9d89479d4b1b",
   "metadata": {},
   "outputs": [
    {
     "data": {
      "text/html": [
       "<div>\n",
       "<style scoped>\n",
       "    .dataframe tbody tr th:only-of-type {\n",
       "        vertical-align: middle;\n",
       "    }\n",
       "\n",
       "    .dataframe tbody tr th {\n",
       "        vertical-align: top;\n",
       "    }\n",
       "\n",
       "    .dataframe thead th {\n",
       "        text-align: right;\n",
       "    }\n",
       "</style>\n",
       "<table border=\"1\" class=\"dataframe\">\n",
       "  <thead>\n",
       "    <tr style=\"text-align: right;\">\n",
       "      <th></th>\n",
       "      <th>Database</th>\n",
       "      <th>COAL</th>\n",
       "      <th>OPP</th>\n",
       "    </tr>\n",
       "  </thead>\n",
       "  <tbody>\n",
       "    <tr>\n",
       "      <th>i</th>\n",
       "      <td>82</td>\n",
       "      <td>19</td>\n",
       "      <td>38</td>\n",
       "    </tr>\n",
       "    <tr>\n",
       "      <th>ii</th>\n",
       "      <td>26</td>\n",
       "      <td>64</td>\n",
       "      <td>98</td>\n",
       "    </tr>\n",
       "    <tr>\n",
       "      <th>iii</th>\n",
       "      <td>99</td>\n",
       "      <td>83</td>\n",
       "      <td>87</td>\n",
       "    </tr>\n",
       "    <tr>\n",
       "      <th>iv</th>\n",
       "      <td>61</td>\n",
       "      <td>69</td>\n",
       "      <td>32</td>\n",
       "    </tr>\n",
       "    <tr>\n",
       "      <th>v</th>\n",
       "      <td>22</td>\n",
       "      <td>88</td>\n",
       "      <td>39</td>\n",
       "    </tr>\n",
       "    <tr>\n",
       "      <th>vi</th>\n",
       "      <td>65</td>\n",
       "      <td>29</td>\n",
       "      <td>99</td>\n",
       "    </tr>\n",
       "    <tr>\n",
       "      <th>vii</th>\n",
       "      <td>75</td>\n",
       "      <td>36</td>\n",
       "      <td>94</td>\n",
       "    </tr>\n",
       "    <tr>\n",
       "      <th>viii</th>\n",
       "      <td>18</td>\n",
       "      <td>71</td>\n",
       "      <td>37</td>\n",
       "    </tr>\n",
       "    <tr>\n",
       "      <th>ix</th>\n",
       "      <td>30</td>\n",
       "      <td>49</td>\n",
       "      <td>70</td>\n",
       "    </tr>\n",
       "    <tr>\n",
       "      <th>x</th>\n",
       "      <td>20</td>\n",
       "      <td>59</td>\n",
       "      <td>43</td>\n",
       "    </tr>\n",
       "  </tbody>\n",
       "</table>\n",
       "</div>"
      ],
      "text/plain": [
       "      Database  COAL  OPP\n",
       "i           82    19   38\n",
       "ii          26    64   98\n",
       "iii         99    83   87\n",
       "iv          61    69   32\n",
       "v           22    88   39\n",
       "vi          65    29   99\n",
       "vii         75    36   94\n",
       "viii        18    71   37\n",
       "ix          30    49   70\n",
       "x           20    59   43"
      ]
     },
     "execution_count": 12,
     "metadata": {},
     "output_type": "execute_result"
    }
   ],
   "source": [
    "df = pd.DataFrame(f, index=ind, columns=['Database', 'COAL', 'OPP'])\n",
    "df"
   ]
  },
  {
   "cell_type": "code",
   "execution_count": 13,
   "id": "0b386aa3-f8e2-4f4b-a840-47765dd27453",
   "metadata": {},
   "outputs": [
    {
     "data": {
      "text/html": [
       "<div>\n",
       "<style scoped>\n",
       "    .dataframe tbody tr th:only-of-type {\n",
       "        vertical-align: middle;\n",
       "    }\n",
       "\n",
       "    .dataframe tbody tr th {\n",
       "        vertical-align: top;\n",
       "    }\n",
       "\n",
       "    .dataframe thead th {\n",
       "        text-align: right;\n",
       "    }\n",
       "</style>\n",
       "<table border=\"1\" class=\"dataframe\">\n",
       "  <thead>\n",
       "    <tr style=\"text-align: right;\">\n",
       "      <th></th>\n",
       "      <th>Database</th>\n",
       "      <th>COAL</th>\n",
       "      <th>OPP</th>\n",
       "    </tr>\n",
       "  </thead>\n",
       "  <tbody>\n",
       "    <tr>\n",
       "      <th>iii</th>\n",
       "      <td>99</td>\n",
       "      <td>83</td>\n",
       "      <td>87</td>\n",
       "    </tr>\n",
       "    <tr>\n",
       "      <th>iv</th>\n",
       "      <td>61</td>\n",
       "      <td>69</td>\n",
       "      <td>32</td>\n",
       "    </tr>\n",
       "    <tr>\n",
       "      <th>v</th>\n",
       "      <td>22</td>\n",
       "      <td>88</td>\n",
       "      <td>39</td>\n",
       "    </tr>\n",
       "    <tr>\n",
       "      <th>vi</th>\n",
       "      <td>65</td>\n",
       "      <td>29</td>\n",
       "      <td>99</td>\n",
       "    </tr>\n",
       "    <tr>\n",
       "      <th>vii</th>\n",
       "      <td>75</td>\n",
       "      <td>36</td>\n",
       "      <td>94</td>\n",
       "    </tr>\n",
       "  </tbody>\n",
       "</table>\n",
       "</div>"
      ],
      "text/plain": [
       "     Database  COAL  OPP\n",
       "iii        99    83   87\n",
       "iv         61    69   32\n",
       "v          22    88   39\n",
       "vi         65    29   99\n",
       "vii        75    36   94"
      ]
     },
     "execution_count": 13,
     "metadata": {},
     "output_type": "execute_result"
    }
   ],
   "source": [
    "df.loc['iii':'vii']"
   ]
  },
  {
   "cell_type": "code",
   "execution_count": 14,
   "id": "a248c91b-f1bb-403d-a4b6-769c8cd92540",
   "metadata": {},
   "outputs": [
    {
     "data": {
      "text/plain": [
       "59"
      ]
     },
     "execution_count": 14,
     "metadata": {},
     "output_type": "execute_result"
    }
   ],
   "source": [
    "df.loc['x', 'COAL']"
   ]
  },
  {
   "cell_type": "code",
   "execution_count": 15,
   "id": "18076f1c-45c6-49f6-8a9f-675f5358b4a4",
   "metadata": {},
   "outputs": [
    {
     "data": {
      "text/html": [
       "<div>\n",
       "<style scoped>\n",
       "    .dataframe tbody tr th:only-of-type {\n",
       "        vertical-align: middle;\n",
       "    }\n",
       "\n",
       "    .dataframe tbody tr th {\n",
       "        vertical-align: top;\n",
       "    }\n",
       "\n",
       "    .dataframe thead th {\n",
       "        text-align: right;\n",
       "    }\n",
       "</style>\n",
       "<table border=\"1\" class=\"dataframe\">\n",
       "  <thead>\n",
       "    <tr style=\"text-align: right;\">\n",
       "      <th></th>\n",
       "      <th>Database</th>\n",
       "      <th>COAL</th>\n",
       "      <th>OPP</th>\n",
       "    </tr>\n",
       "  </thead>\n",
       "  <tbody>\n",
       "    <tr>\n",
       "      <th>iii</th>\n",
       "      <td>99</td>\n",
       "      <td>83</td>\n",
       "      <td>87</td>\n",
       "    </tr>\n",
       "    <tr>\n",
       "      <th>iv</th>\n",
       "      <td>61</td>\n",
       "      <td>69</td>\n",
       "      <td>32</td>\n",
       "    </tr>\n",
       "    <tr>\n",
       "      <th>v</th>\n",
       "      <td>22</td>\n",
       "      <td>88</td>\n",
       "      <td>39</td>\n",
       "    </tr>\n",
       "    <tr>\n",
       "      <th>vi</th>\n",
       "      <td>65</td>\n",
       "      <td>29</td>\n",
       "      <td>99</td>\n",
       "    </tr>\n",
       "    <tr>\n",
       "      <th>vii</th>\n",
       "      <td>75</td>\n",
       "      <td>36</td>\n",
       "      <td>94</td>\n",
       "    </tr>\n",
       "  </tbody>\n",
       "</table>\n",
       "</div>"
      ],
      "text/plain": [
       "     Database  COAL  OPP\n",
       "iii        99    83   87\n",
       "iv         61    69   32\n",
       "v          22    88   39\n",
       "vi         65    29   99\n",
       "vii        75    36   94"
      ]
     },
     "execution_count": 15,
     "metadata": {},
     "output_type": "execute_result"
    }
   ],
   "source": [
    "df.iloc[2:7]"
   ]
  },
  {
   "cell_type": "code",
   "execution_count": 16,
   "id": "0a9f6efd-8d2d-4764-a3f3-377135ead564",
   "metadata": {},
   "outputs": [
    {
     "data": {
      "text/plain": [
       "59"
      ]
     },
     "execution_count": 16,
     "metadata": {},
     "output_type": "execute_result"
    }
   ],
   "source": [
    "df.iloc[9, 1]"
   ]
  },
  {
   "cell_type": "code",
   "execution_count": 17,
   "id": "55e37adc-73b3-4c82-ad92-ebf92f248fc9",
   "metadata": {},
   "outputs": [
    {
     "data": {
      "text/html": [
       "<div>\n",
       "<style scoped>\n",
       "    .dataframe tbody tr th:only-of-type {\n",
       "        vertical-align: middle;\n",
       "    }\n",
       "\n",
       "    .dataframe tbody tr th {\n",
       "        vertical-align: top;\n",
       "    }\n",
       "\n",
       "    .dataframe thead th {\n",
       "        text-align: right;\n",
       "    }\n",
       "</style>\n",
       "<table border=\"1\" class=\"dataframe\">\n",
       "  <thead>\n",
       "    <tr style=\"text-align: right;\">\n",
       "      <th></th>\n",
       "      <th>i</th>\n",
       "      <th>ii</th>\n",
       "      <th>iii</th>\n",
       "      <th>iv</th>\n",
       "      <th>v</th>\n",
       "      <th>vi</th>\n",
       "    </tr>\n",
       "  </thead>\n",
       "  <tbody>\n",
       "    <tr>\n",
       "      <th>a</th>\n",
       "      <td>69</td>\n",
       "      <td>24</td>\n",
       "      <td>31</td>\n",
       "      <td>29</td>\n",
       "      <td>36</td>\n",
       "      <td>29</td>\n",
       "    </tr>\n",
       "    <tr>\n",
       "      <th>b</th>\n",
       "      <td>42</td>\n",
       "      <td>94</td>\n",
       "      <td>86</td>\n",
       "      <td>48</td>\n",
       "      <td>58</td>\n",
       "      <td>59</td>\n",
       "    </tr>\n",
       "    <tr>\n",
       "      <th>c</th>\n",
       "      <td>47</td>\n",
       "      <td>88</td>\n",
       "      <td>11</td>\n",
       "      <td>18</td>\n",
       "      <td>58</td>\n",
       "      <td>80</td>\n",
       "    </tr>\n",
       "    <tr>\n",
       "      <th>d</th>\n",
       "      <td>84</td>\n",
       "      <td>32</td>\n",
       "      <td>32</td>\n",
       "      <td>90</td>\n",
       "      <td>40</td>\n",
       "      <td>85</td>\n",
       "    </tr>\n",
       "    <tr>\n",
       "      <th>e</th>\n",
       "      <td>84</td>\n",
       "      <td>93</td>\n",
       "      <td>63</td>\n",
       "      <td>80</td>\n",
       "      <td>74</td>\n",
       "      <td>83</td>\n",
       "    </tr>\n",
       "    <tr>\n",
       "      <th>f</th>\n",
       "      <td>68</td>\n",
       "      <td>71</td>\n",
       "      <td>34</td>\n",
       "      <td>98</td>\n",
       "      <td>35</td>\n",
       "      <td>56</td>\n",
       "    </tr>\n",
       "    <tr>\n",
       "      <th>g</th>\n",
       "      <td>88</td>\n",
       "      <td>93</td>\n",
       "      <td>87</td>\n",
       "      <td>79</td>\n",
       "      <td>51</td>\n",
       "      <td>56</td>\n",
       "    </tr>\n",
       "    <tr>\n",
       "      <th>h</th>\n",
       "      <td>99</td>\n",
       "      <td>41</td>\n",
       "      <td>20</td>\n",
       "      <td>25</td>\n",
       "      <td>54</td>\n",
       "      <td>85</td>\n",
       "    </tr>\n",
       "    <tr>\n",
       "      <th>k</th>\n",
       "      <td>32</td>\n",
       "      <td>13</td>\n",
       "      <td>77</td>\n",
       "      <td>59</td>\n",
       "      <td>31</td>\n",
       "      <td>13</td>\n",
       "    </tr>\n",
       "    <tr>\n",
       "      <th>l</th>\n",
       "      <td>14</td>\n",
       "      <td>97</td>\n",
       "      <td>52</td>\n",
       "      <td>78</td>\n",
       "      <td>19</td>\n",
       "      <td>30</td>\n",
       "    </tr>\n",
       "  </tbody>\n",
       "</table>\n",
       "</div>"
      ],
      "text/plain": [
       "    i  ii  iii  iv   v  vi\n",
       "a  69  24   31  29  36  29\n",
       "b  42  94   86  48  58  59\n",
       "c  47  88   11  18  58  80\n",
       "d  84  32   32  90  40  85\n",
       "e  84  93   63  80  74  83\n",
       "f  68  71   34  98  35  56\n",
       "g  88  93   87  79  51  56\n",
       "h  99  41   20  25  54  85\n",
       "k  32  13   77  59  31  13\n",
       "l  14  97   52  78  19  30"
      ]
     },
     "execution_count": 17,
     "metadata": {},
     "output_type": "execute_result"
    }
   ],
   "source": [
    "dfd = np.random.randint(11, 100, (10, 6))\n",
    "dfd = pd.DataFrame(dfd, index=\"a b c d e f g h k l\".split(), columns=\"i ii iii iv v vi\".split())\n",
    "dfd"
   ]
  },
  {
   "cell_type": "code",
   "execution_count": 18,
   "id": "b2a79a90-aea2-4916-9a9e-5121bceb8501",
   "metadata": {},
   "outputs": [
    {
     "data": {
      "text/plain": [
       "a    False\n",
       "b    False\n",
       "c    False\n",
       "d     True\n",
       "e     True\n",
       "f     True\n",
       "g     True\n",
       "h    False\n",
       "k    False\n",
       "l     True\n",
       "Name: iv, dtype: bool"
      ]
     },
     "execution_count": 18,
     "metadata": {},
     "output_type": "execute_result"
    }
   ],
   "source": [
    "dfd['iv'] > 60"
   ]
  },
  {
   "cell_type": "code",
   "execution_count": 19,
   "id": "2a278831-e195-4791-82e8-0ac8cb1512ff",
   "metadata": {},
   "outputs": [
    {
     "data": {
      "text/html": [
       "<div>\n",
       "<style scoped>\n",
       "    .dataframe tbody tr th:only-of-type {\n",
       "        vertical-align: middle;\n",
       "    }\n",
       "\n",
       "    .dataframe tbody tr th {\n",
       "        vertical-align: top;\n",
       "    }\n",
       "\n",
       "    .dataframe thead th {\n",
       "        text-align: right;\n",
       "    }\n",
       "</style>\n",
       "<table border=\"1\" class=\"dataframe\">\n",
       "  <thead>\n",
       "    <tr style=\"text-align: right;\">\n",
       "      <th></th>\n",
       "      <th>i</th>\n",
       "      <th>ii</th>\n",
       "      <th>iii</th>\n",
       "      <th>iv</th>\n",
       "      <th>v</th>\n",
       "      <th>vi</th>\n",
       "    </tr>\n",
       "  </thead>\n",
       "  <tbody>\n",
       "    <tr>\n",
       "      <th>a</th>\n",
       "      <td>69.0</td>\n",
       "      <td>NaN</td>\n",
       "      <td>NaN</td>\n",
       "      <td>NaN</td>\n",
       "      <td>NaN</td>\n",
       "      <td>NaN</td>\n",
       "    </tr>\n",
       "    <tr>\n",
       "      <th>b</th>\n",
       "      <td>NaN</td>\n",
       "      <td>94.0</td>\n",
       "      <td>86.0</td>\n",
       "      <td>NaN</td>\n",
       "      <td>NaN</td>\n",
       "      <td>NaN</td>\n",
       "    </tr>\n",
       "    <tr>\n",
       "      <th>c</th>\n",
       "      <td>NaN</td>\n",
       "      <td>88.0</td>\n",
       "      <td>NaN</td>\n",
       "      <td>NaN</td>\n",
       "      <td>NaN</td>\n",
       "      <td>80.0</td>\n",
       "    </tr>\n",
       "    <tr>\n",
       "      <th>d</th>\n",
       "      <td>84.0</td>\n",
       "      <td>NaN</td>\n",
       "      <td>NaN</td>\n",
       "      <td>90.0</td>\n",
       "      <td>NaN</td>\n",
       "      <td>85.0</td>\n",
       "    </tr>\n",
       "    <tr>\n",
       "      <th>e</th>\n",
       "      <td>84.0</td>\n",
       "      <td>93.0</td>\n",
       "      <td>63.0</td>\n",
       "      <td>80.0</td>\n",
       "      <td>74.0</td>\n",
       "      <td>83.0</td>\n",
       "    </tr>\n",
       "    <tr>\n",
       "      <th>f</th>\n",
       "      <td>68.0</td>\n",
       "      <td>71.0</td>\n",
       "      <td>NaN</td>\n",
       "      <td>98.0</td>\n",
       "      <td>NaN</td>\n",
       "      <td>NaN</td>\n",
       "    </tr>\n",
       "    <tr>\n",
       "      <th>g</th>\n",
       "      <td>88.0</td>\n",
       "      <td>93.0</td>\n",
       "      <td>87.0</td>\n",
       "      <td>79.0</td>\n",
       "      <td>NaN</td>\n",
       "      <td>NaN</td>\n",
       "    </tr>\n",
       "    <tr>\n",
       "      <th>h</th>\n",
       "      <td>99.0</td>\n",
       "      <td>NaN</td>\n",
       "      <td>NaN</td>\n",
       "      <td>NaN</td>\n",
       "      <td>NaN</td>\n",
       "      <td>85.0</td>\n",
       "    </tr>\n",
       "    <tr>\n",
       "      <th>k</th>\n",
       "      <td>NaN</td>\n",
       "      <td>NaN</td>\n",
       "      <td>77.0</td>\n",
       "      <td>NaN</td>\n",
       "      <td>NaN</td>\n",
       "      <td>NaN</td>\n",
       "    </tr>\n",
       "    <tr>\n",
       "      <th>l</th>\n",
       "      <td>NaN</td>\n",
       "      <td>97.0</td>\n",
       "      <td>NaN</td>\n",
       "      <td>78.0</td>\n",
       "      <td>NaN</td>\n",
       "      <td>NaN</td>\n",
       "    </tr>\n",
       "  </tbody>\n",
       "</table>\n",
       "</div>"
      ],
      "text/plain": [
       "      i    ii   iii    iv     v    vi\n",
       "a  69.0   NaN   NaN   NaN   NaN   NaN\n",
       "b   NaN  94.0  86.0   NaN   NaN   NaN\n",
       "c   NaN  88.0   NaN   NaN   NaN  80.0\n",
       "d  84.0   NaN   NaN  90.0   NaN  85.0\n",
       "e  84.0  93.0  63.0  80.0  74.0  83.0\n",
       "f  68.0  71.0   NaN  98.0   NaN   NaN\n",
       "g  88.0  93.0  87.0  79.0   NaN   NaN\n",
       "h  99.0   NaN   NaN   NaN   NaN  85.0\n",
       "k   NaN   NaN  77.0   NaN   NaN   NaN\n",
       "l   NaN  97.0   NaN  78.0   NaN   NaN"
      ]
     },
     "execution_count": 19,
     "metadata": {},
     "output_type": "execute_result"
    }
   ],
   "source": [
    "dfd[dfd > 60]"
   ]
  },
  {
   "cell_type": "code",
   "execution_count": 20,
   "id": "76302e93-7547-4497-9712-8b81d0848f72",
   "metadata": {},
   "outputs": [
    {
     "data": {
      "text/html": [
       "<div>\n",
       "<style scoped>\n",
       "    .dataframe tbody tr th:only-of-type {\n",
       "        vertical-align: middle;\n",
       "    }\n",
       "\n",
       "    .dataframe tbody tr th {\n",
       "        vertical-align: top;\n",
       "    }\n",
       "\n",
       "    .dataframe thead th {\n",
       "        text-align: right;\n",
       "    }\n",
       "</style>\n",
       "<table border=\"1\" class=\"dataframe\">\n",
       "  <thead>\n",
       "    <tr style=\"text-align: right;\">\n",
       "      <th></th>\n",
       "      <th>i</th>\n",
       "      <th>ii</th>\n",
       "      <th>iii</th>\n",
       "      <th>iv</th>\n",
       "      <th>v</th>\n",
       "      <th>vi</th>\n",
       "    </tr>\n",
       "  </thead>\n",
       "  <tbody>\n",
       "    <tr>\n",
       "      <th>b</th>\n",
       "      <td>42</td>\n",
       "      <td>94</td>\n",
       "      <td>86</td>\n",
       "      <td>48</td>\n",
       "      <td>58</td>\n",
       "      <td>59</td>\n",
       "    </tr>\n",
       "    <tr>\n",
       "      <th>c</th>\n",
       "      <td>47</td>\n",
       "      <td>88</td>\n",
       "      <td>11</td>\n",
       "      <td>18</td>\n",
       "      <td>58</td>\n",
       "      <td>80</td>\n",
       "    </tr>\n",
       "    <tr>\n",
       "      <th>e</th>\n",
       "      <td>84</td>\n",
       "      <td>93</td>\n",
       "      <td>63</td>\n",
       "      <td>80</td>\n",
       "      <td>74</td>\n",
       "      <td>83</td>\n",
       "    </tr>\n",
       "    <tr>\n",
       "      <th>g</th>\n",
       "      <td>88</td>\n",
       "      <td>93</td>\n",
       "      <td>87</td>\n",
       "      <td>79</td>\n",
       "      <td>51</td>\n",
       "      <td>56</td>\n",
       "    </tr>\n",
       "    <tr>\n",
       "      <th>h</th>\n",
       "      <td>99</td>\n",
       "      <td>41</td>\n",
       "      <td>20</td>\n",
       "      <td>25</td>\n",
       "      <td>54</td>\n",
       "      <td>85</td>\n",
       "    </tr>\n",
       "  </tbody>\n",
       "</table>\n",
       "</div>"
      ],
      "text/plain": [
       "    i  ii  iii  iv   v  vi\n",
       "b  42  94   86  48  58  59\n",
       "c  47  88   11  18  58  80\n",
       "e  84  93   63  80  74  83\n",
       "g  88  93   87  79  51  56\n",
       "h  99  41   20  25  54  85"
      ]
     },
     "execution_count": 20,
     "metadata": {},
     "output_type": "execute_result"
    }
   ],
   "source": [
    "dfd[dfd['v'] > 50]"
   ]
  },
  {
   "cell_type": "code",
   "execution_count": 21,
   "id": "f55be30f-006f-4b87-9ca2-807cd63627b3",
   "metadata": {},
   "outputs": [
    {
     "data": {
      "text/plain": [
       "b    42\n",
       "c    47\n",
       "e    84\n",
       "g    88\n",
       "h    99\n",
       "Name: i, dtype: int32"
      ]
     },
     "execution_count": 21,
     "metadata": {},
     "output_type": "execute_result"
    }
   ],
   "source": [
    "dfd[dfd['v'] > 50]['i']"
   ]
  },
  {
   "cell_type": "code",
   "execution_count": null,
   "id": "9efc68df-9eda-4461-a72d-44a3c9f81a08",
   "metadata": {},
   "outputs": [],
   "source": []
  }
 ],
 "metadata": {
  "kernelspec": {
   "display_name": "Python 3 (ipykernel)",
   "language": "python",
   "name": "python3"
  },
  "language_info": {
   "codemirror_mode": {
    "name": "ipython",
    "version": 3
   },
   "file_extension": ".py",
   "mimetype": "text/x-python",
   "name": "python",
   "nbconvert_exporter": "python",
   "pygments_lexer": "ipython3",
   "version": "3.10.0"
  }
 },
 "nbformat": 4,
 "nbformat_minor": 5
}
