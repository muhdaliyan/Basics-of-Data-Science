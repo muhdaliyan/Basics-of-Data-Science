{
 "cells": [
  {
   "cell_type": "code",
   "execution_count": 141,
   "id": "b3e1b08c-dfed-4dd9-827c-80cf1d13afa8",
   "metadata": {},
   "outputs": [],
   "source": [
    "with open(\"myfile.txt\", \"w\") as file1:\n",
    "    file1.close()\n",
    "\n",
    "file1 = open(\"myfile.txt\", \"w\")"
   ]
  },
  {
   "cell_type": "code",
   "execution_count": 142,
   "id": "74b251df-231c-48d6-98cf-60a3c19b8024",
   "metadata": {},
   "outputs": [],
   "source": [
    "L = [\"This is Delhi \\n\", \"This is Paris \\n\", \"This is London \\n\"]\n",
    "file1.write(\"Hello \\n\")\n",
    "file1.writelines(L)"
   ]
  },
  {
   "cell_type": "code",
   "execution_count": 127,
   "id": "b0f61384-7bfb-47a5-95ce-f9e2fe906b0f",
   "metadata": {},
   "outputs": [],
   "source": [
    "file1 = open(\"myfile.txt\", \"r\")"
   ]
  },
  {
   "cell_type": "code",
   "execution_count": 128,
   "id": "163cc278-fdc9-4dbc-badd-dfda29bba9aa",
   "metadata": {},
   "outputs": [
    {
     "data": {
      "text/plain": [
       "0"
      ]
     },
     "execution_count": 128,
     "metadata": {},
     "output_type": "execute_result"
    }
   ],
   "source": [
    "file1.seek(0)"
   ]
  },
  {
   "cell_type": "markdown",
   "id": "3e459b0a-9bd2-422e-9cff-0c7f8d2d0417",
   "metadata": {},
   "source": [
    "Read"
   ]
  },
  {
   "cell_type": "code",
   "execution_count": 129,
   "id": "2d7c2916-0afe-4489-9435-14e9a5d84bde",
   "metadata": {},
   "outputs": [
    {
     "name": "stdout",
     "output_type": "stream",
     "text": [
      "Output of Read function is \n",
      "Hello \n",
      "This is Delhi \n",
      "This is Paris \n",
      "This is London \n",
      "\n"
     ]
    }
   ],
   "source": [
    "print(\"Output of Read function is \")\n",
    "print(file1.read())"
   ]
  },
  {
   "cell_type": "code",
   "execution_count": 130,
   "id": "663c09bb-a3de-4c1d-90fc-53a207838a3e",
   "metadata": {},
   "outputs": [
    {
     "data": {
      "text/plain": [
       "0"
      ]
     },
     "execution_count": 130,
     "metadata": {},
     "output_type": "execute_result"
    }
   ],
   "source": [
    "file1.seek(0)"
   ]
  },
  {
   "cell_type": "code",
   "execution_count": 131,
   "id": "5490ff52-473c-4f93-aa8d-afc3bbda630b",
   "metadata": {},
   "outputs": [
    {
     "name": "stdout",
     "output_type": "stream",
     "text": [
      "Output of Read(9) function is \n",
      "Hello \n",
      "This is Delhi \n",
      "This \n"
     ]
    }
   ],
   "source": [
    "print(\"Output of Read(9) function is \")\n",
    "print(file1.read(27))"
   ]
  },
  {
   "cell_type": "code",
   "execution_count": 138,
   "id": "364fa235-f384-4d2f-aae4-5b703226859c",
   "metadata": {},
   "outputs": [
    {
     "name": "stdout",
     "output_type": "stream",
     "text": [
      "Output of Readline(9) function is \n",
      "\n"
     ]
    }
   ],
   "source": [
    "print(\"Output of Readline(9) function is \")\n",
    "print(file1.readline(27))"
   ]
  },
  {
   "cell_type": "code",
   "execution_count": 139,
   "id": "dbffcc58-ce4c-475a-bdbc-12de5c0b08f3",
   "metadata": {},
   "outputs": [
    {
     "data": {
      "text/plain": [
       "0"
      ]
     },
     "execution_count": 139,
     "metadata": {},
     "output_type": "execute_result"
    }
   ],
   "source": [
    "file1.seek(0)"
   ]
  },
  {
   "cell_type": "code",
   "execution_count": 140,
   "id": "7e3b7617-a703-4878-b455-72f42e51053b",
   "metadata": {},
   "outputs": [
    {
     "name": "stdout",
     "output_type": "stream",
     "text": [
      "Output of Readlines function is \n",
      "['Hello \\n', 'This is Delhi \\n', 'This is Paris \\n', 'This is London \\n']\n"
     ]
    }
   ],
   "source": [
    "print(\"Output of Readlines function is \")\n",
    "print(file1.readlines())\n"
   ]
  },
  {
   "cell_type": "code",
   "execution_count": 135,
   "id": "c3133728-d048-465a-b35a-655355988222",
   "metadata": {},
   "outputs": [
    {
     "data": {
      "text/plain": [
       "0"
      ]
     },
     "execution_count": 135,
     "metadata": {},
     "output_type": "execute_result"
    }
   ],
   "source": [
    "file1.seek(0)"
   ]
  },
  {
   "cell_type": "code",
   "execution_count": null,
   "id": "68faa238-9327-4a82-a928-1b3e708ddc06",
   "metadata": {},
   "outputs": [],
   "source": [
    "file1.close()"
   ]
  }
 ],
 "metadata": {
  "kernelspec": {
   "display_name": "Python 3 (ipykernel)",
   "language": "python",
   "name": "python3"
  },
  "language_info": {
   "codemirror_mode": {
    "name": "ipython",
    "version": 3
   },
   "file_extension": ".py",
   "mimetype": "text/x-python",
   "name": "python",
   "nbconvert_exporter": "python",
   "pygments_lexer": "ipython3",
   "version": "3.10.0"
  }
 },
 "nbformat": 4,
 "nbformat_minor": 5
}
